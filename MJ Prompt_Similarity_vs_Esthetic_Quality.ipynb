{
  "nbformat": 4,
  "nbformat_minor": 0,
  "metadata": {
    "colab": {
      "provenance": [],
      "include_colab_link": true
    },
    "kernelspec": {
      "name": "python3",
      "display_name": "Python 3"
    },
    "language_info": {
      "name": "python"
    },
    "accelerator": "GPU"
  },
  "cells": [
    {
      "cell_type": "markdown",
      "metadata": {
        "id": "view-in-github",
        "colab_type": "text"
      },
      "source": [
        "<a href=\"https://colab.research.google.com/github/dasheng09/MJ/blob/main/MJ%20Prompt_Similarity_vs_Esthetic_Quality.ipynb\" target=\"_parent\"><img src=\"https://colab.research.google.com/assets/colab-badge.svg\" alt=\"Open In Colab\"/></a>"
      ]
    },
    {
      "cell_type": "code",
      "metadata": {
        "id": "62-fEt6zKElK",
        "colab": {
          "base_uri": "https://localhost:8080/"
        },
        "outputId": "521e4acb-67e1-4e7a-ba47-fcc218e95c40"
      },
      "source": [
        "!pip install ftfy regex tqdm\n",
        "!pip install git+https://github.com/openai/CLIP.git"
      ],
      "execution_count": 102,
      "outputs": [
        {
          "output_type": "stream",
          "name": "stdout",
          "text": [
            "Looking in indexes: https://pypi.org/simple, https://us-python.pkg.dev/colab-wheels/public/simple/\n",
            "Requirement already satisfied: ftfy in /usr/local/lib/python3.9/dist-packages (6.1.1)\n",
            "Requirement already satisfied: regex in /usr/local/lib/python3.9/dist-packages (2022.10.31)\n",
            "Requirement already satisfied: tqdm in /usr/local/lib/python3.9/dist-packages (4.65.0)\n",
            "Requirement already satisfied: wcwidth>=0.2.5 in /usr/local/lib/python3.9/dist-packages (from ftfy) (0.2.6)\n",
            "Looking in indexes: https://pypi.org/simple, https://us-python.pkg.dev/colab-wheels/public/simple/\n",
            "Collecting git+https://github.com/openai/CLIP.git\n",
            "  Cloning https://github.com/openai/CLIP.git to /tmp/pip-req-build-2u4einvi\n",
            "  Running command git clone --filter=blob:none --quiet https://github.com/openai/CLIP.git /tmp/pip-req-build-2u4einvi\n",
            "  Resolved https://github.com/openai/CLIP.git to commit a9b1bf5920416aaeaec965c25dd9e8f98c864f16\n",
            "  Preparing metadata (setup.py) ... \u001b[?25l\u001b[?25hdone\n",
            "Requirement already satisfied: ftfy in /usr/local/lib/python3.9/dist-packages (from clip==1.0) (6.1.1)\n",
            "Requirement already satisfied: regex in /usr/local/lib/python3.9/dist-packages (from clip==1.0) (2022.10.31)\n",
            "Requirement already satisfied: tqdm in /usr/local/lib/python3.9/dist-packages (from clip==1.0) (4.65.0)\n",
            "Requirement already satisfied: torch in /usr/local/lib/python3.9/dist-packages (from clip==1.0) (2.0.0+cu118)\n",
            "Requirement already satisfied: torchvision in /usr/local/lib/python3.9/dist-packages (from clip==1.0) (0.15.1+cu118)\n",
            "Requirement already satisfied: wcwidth>=0.2.5 in /usr/local/lib/python3.9/dist-packages (from ftfy->clip==1.0) (0.2.6)\n",
            "Requirement already satisfied: triton==2.0.0 in /usr/local/lib/python3.9/dist-packages (from torch->clip==1.0) (2.0.0)\n",
            "Requirement already satisfied: sympy in /usr/local/lib/python3.9/dist-packages (from torch->clip==1.0) (1.11.1)\n",
            "Requirement already satisfied: networkx in /usr/local/lib/python3.9/dist-packages (from torch->clip==1.0) (3.1)\n",
            "Requirement already satisfied: typing-extensions in /usr/local/lib/python3.9/dist-packages (from torch->clip==1.0) (4.5.0)\n",
            "Requirement already satisfied: filelock in /usr/local/lib/python3.9/dist-packages (from torch->clip==1.0) (3.11.0)\n",
            "Requirement already satisfied: jinja2 in /usr/local/lib/python3.9/dist-packages (from torch->clip==1.0) (3.1.2)\n",
            "Requirement already satisfied: lit in /usr/local/lib/python3.9/dist-packages (from triton==2.0.0->torch->clip==1.0) (16.0.1)\n",
            "Requirement already satisfied: cmake in /usr/local/lib/python3.9/dist-packages (from triton==2.0.0->torch->clip==1.0) (3.25.2)\n",
            "Requirement already satisfied: requests in /usr/local/lib/python3.9/dist-packages (from torchvision->clip==1.0) (2.27.1)\n",
            "Requirement already satisfied: numpy in /usr/local/lib/python3.9/dist-packages (from torchvision->clip==1.0) (1.22.4)\n",
            "Requirement already satisfied: pillow!=8.3.*,>=5.3.0 in /usr/local/lib/python3.9/dist-packages (from torchvision->clip==1.0) (8.4.0)\n",
            "Requirement already satisfied: MarkupSafe>=2.0 in /usr/local/lib/python3.9/dist-packages (from jinja2->torch->clip==1.0) (2.1.2)\n",
            "Requirement already satisfied: urllib3<1.27,>=1.21.1 in /usr/local/lib/python3.9/dist-packages (from requests->torchvision->clip==1.0) (1.26.15)\n",
            "Requirement already satisfied: charset-normalizer~=2.0.0 in /usr/local/lib/python3.9/dist-packages (from requests->torchvision->clip==1.0) (2.0.12)\n",
            "Requirement already satisfied: idna<4,>=2.5 in /usr/local/lib/python3.9/dist-packages (from requests->torchvision->clip==1.0) (3.4)\n",
            "Requirement already satisfied: certifi>=2017.4.17 in /usr/local/lib/python3.9/dist-packages (from requests->torchvision->clip==1.0) (2022.12.7)\n",
            "Requirement already satisfied: mpmath>=0.19 in /usr/local/lib/python3.9/dist-packages (from sympy->torch->clip==1.0) (1.3.0)\n"
          ]
        }
      ]
    },
    {
      "cell_type": "code",
      "source": [
        "import clip\n",
        "print(clip.available_models())"
      ],
      "metadata": {
        "colab": {
          "base_uri": "https://localhost:8080/"
        },
        "id": "kbXDEPwHUYKr",
        "outputId": "409cf280-5336-456d-a660-17e41a6b5600"
      },
      "execution_count": 103,
      "outputs": [
        {
          "output_type": "stream",
          "name": "stdout",
          "text": [
            "['RN50', 'RN101', 'RN50x4', 'RN50x16', 'RN50x64', 'ViT-B/32', 'ViT-B/16', 'ViT-L/14', 'ViT-L/14@336px']\n"
          ]
        }
      ]
    },
    {
      "cell_type": "code",
      "metadata": {
        "id": "pLf1HrjgKTKB"
      },
      "source": [
        "import torch\n",
        "import clip\n",
        "from PIL import Image\n",
        "device = \"cuda\" if torch.cuda.is_available() else \"cpu\"\n",
        "model, preprocess = clip.load(\"ViT-L/14@336px\", device=device)"
      ],
      "execution_count": 104,
      "outputs": []
    },
    {
      "cell_type": "code",
      "source": [
        "import glob\n",
        "file_list = glob.glob(\"/content/drive/MyDrive/stable_diffusion/*/*/*.png\")\n",
        "file_list.sort()"
      ],
      "metadata": {
        "id": "1Bl5XeosL4zl"
      },
      "execution_count": 105,
      "outputs": []
    },
    {
      "cell_type": "code",
      "source": [
        "print(file_list[96:96+12])"
      ],
      "metadata": {
        "colab": {
          "base_uri": "https://localhost:8080/"
        },
        "id": "HwpYNn7-MOMN",
        "outputId": "caacf343-4592-4a01-a902-71b4d16e0d4f"
      },
      "execution_count": 106,
      "outputs": [
        {
          "output_type": "stream",
          "name": "stdout",
          "text": [
            "['/content/drive/MyDrive/stable_diffusion/Portraits/A beautiful girl in the sun Portraits by Childe Hassam+Edgar Payne+sorolla/NIJI CU-1.png', '/content/drive/MyDrive/stable_diffusion/Portraits/A beautiful girl in the sun Portraits by Childe Hassam+Edgar Payne+sorolla/NIJI EX-1.png', '/content/drive/MyDrive/stable_diffusion/Portraits/A beautiful girl in the sun Portraits by Childe Hassam+Edgar Payne+sorolla/NIJI4-1.png', '/content/drive/MyDrive/stable_diffusion/Portraits/A beautiful girl in the sun Portraits by Childe Hassam+Edgar Payne+sorolla/NIJI5-1.png', '/content/drive/MyDrive/stable_diffusion/Portraits/A beautiful girl in the sun Portraits by Childe Hassam+Edgar Payne+sorolla/v2-1.png', '/content/drive/MyDrive/stable_diffusion/Portraits/A beautiful girl in the sun Portraits by Childe Hassam+Edgar Payne+sorolla/v3-1.png', '/content/drive/MyDrive/stable_diffusion/Portraits/A beautiful girl in the sun Portraits by Childe Hassam+Edgar Payne+sorolla/v4-1.png', '/content/drive/MyDrive/stable_diffusion/Portraits/A beautiful girl in the sun Portraits by Childe Hassam+Edgar Payne+sorolla/v5-1.png', '/content/drive/MyDrive/stable_diffusion/Portraits/A domineering Caribbean pirate Portraits by Hiroshi Yoshida/NIJI CU-2.png', '/content/drive/MyDrive/stable_diffusion/Portraits/A domineering Caribbean pirate Portraits by Hiroshi Yoshida/NIJI EX-2.png', '/content/drive/MyDrive/stable_diffusion/Portraits/A domineering Caribbean pirate Portraits by Hiroshi Yoshida/NIJI4-2.png', '/content/drive/MyDrive/stable_diffusion/Portraits/A domineering Caribbean pirate Portraits by Hiroshi Yoshida/NIJI5-2.png']\n"
          ]
        }
      ]
    },
    {
      "cell_type": "code",
      "source": [
        "from google.colab import drive\n",
        "drive.mount('/content/drive')"
      ],
      "metadata": {
        "colab": {
          "base_uri": "https://localhost:8080/"
        },
        "id": "9rKQioJSmMCL",
        "outputId": "d704e129-561e-4ad0-ebaa-ae09d680e59b"
      },
      "execution_count": 107,
      "outputs": [
        {
          "output_type": "stream",
          "name": "stdout",
          "text": [
            "Drive already mounted at /content/drive; to attempt to forcibly remount, call drive.mount(\"/content/drive\", force_remount=True).\n"
          ]
        }
      ]
    },
    {
      "cell_type": "code",
      "source": [
        "from PIL import ImageFont, ImageDraw\n",
        "fnt = ImageFont.truetype('/usr/share/fonts/truetype/liberation/LiberationSans-Bold.ttf', 40)\n",
        "dimensions = {\"Abstract Paintings\": (512, 512), \"Landscapes\": (512, 512), \"Portraits\": (512, 512), \n",
        "          \"Still Lifes\": (512, 512), \"Watercolor\": (512, 512), \"Concept character\": (512, 512)}\n",
        "\n",
        "for i, f in enumerate(file_list):\n",
        "  if \"v2\" in f:\n",
        "    sd = \"V2\"\n",
        "  elif \"v3\" in f:\n",
        "    sd = \"V3\"\n",
        "  elif \"v4\" in f:\n",
        "    sd = \"V4\"\n",
        "  elif \"v5\" in f:\n",
        "    sd = \"V5\"\n",
        "  elif \"niji4\" in f:\n",
        "    sd = \"NIJI4\"\n",
        "  elif \"niji5\" in f:\n",
        "    sd = \"NIJI5\"\n",
        "  elif \"niji expressive\" in f:\n",
        "    sd = \"NIJI EX\"\n",
        "  elif \"niji cute\" in f:\n",
        "    sd = \"NIJI CU\"\n",
        "  else:\n",
        "    sd = \"SD\"\n",
        "  c = i%4\n",
        "\n",
        "  print(f)\n",
        "  parts = f.split(\"/\")\n",
        "  subject = parts[5]\n",
        "  prompt = parts[6]\n",
        "  dims = dimensions[subject]\n",
        "  img = Image.open(f)\n",
        "  img_resized = img.resize(dims)\n",
        "  draw = ImageDraw.Draw(img_resized)\n",
        "\n",
        "  if sd == \"V2\":\n",
        "    draw.text((3, dims[1]-41), sd+str(c), font=fnt, fill=(255, 127, 14, 255))\n",
        "  elif sd == \"V3\":\n",
        "    draw.text((3, dims[1]-41), sd+str(c), font=fnt, fill=(31, 119, 180, 255))\n",
        "  elif sd == \"V4\":\n",
        "    draw.text((3, dims[1]-41), sd+str(c), font=fnt, fill=(44, 160, 44, 255))\n",
        "  elif sd == \"V5\":\n",
        "    draw.text((3, dims[1]-41), sd+str(c), font=fnt, fill=(255, 0, 0, 255))\n",
        "  elif sd == \"NIJI4\":\n",
        "    draw.text((3, dims[1]-41), sd+str(c), font=fnt, fill=(0, 255, 0, 255))\n",
        "  elif sd == \"NIJI5\":\n",
        "    draw.text((3, dims[1]-41), sd+str(c), font=fnt, fill=(0, 0, 255, 255))\n",
        "  elif sd == \"NIJI EX\":\n",
        "    draw.text((3, dims[1]-41), sd+str(c), font=fnt, fill=(255, 255, 0, 255))\n",
        "  elif sd == \"NIJI CU\":\n",
        "    draw.text((3, dims[1]-41), sd+str(c), font=fnt, fill=(255, 0, 255, 255))\n",
        "  else:\n",
        "    draw.text((3, dims[1]-41), sd+str(c), font=fnt, fill=(0, 0, 0, 255))\n",
        "\n",
        "  draw.text((6, dims[1]-44), sd+str(c), font=fnt, fill=(255, 255, 255, 255))\n",
        "\n",
        "  if c == 0:\n",
        "    w = dims[0]*2+10\n",
        "    h = dims[1]*2+10\n",
        "    im = Image.new(mode = \"RGB\", size = (w, h), color = (255, 255, 255))\n",
        "    Image.Image.paste(im, img_resized, (0, 0))\n",
        "\n",
        "  elif c == 1:\n",
        "    Image.Image.paste(im, img_resized, (dims[0]+10, 0))\n",
        "  elif c == 2:\n",
        "    Image.Image.paste(im, img_resized, (0, dims[1]+10))\n",
        "  else:\n",
        "    Image.Image.paste(im, img_resized, (dims[0]+10, dims[1]+10))\n",
        " "
      ],
      "metadata": {
        "colab": {
          "base_uri": "https://localhost:8080/"
        },
        "id": "N95n9NpyYnXK",
        "outputId": "45858244-1420-4256-b11c-a8033fff97de"
      },
      "execution_count": 108,
      "outputs": [
        {
          "output_type": "stream",
          "name": "stdout",
          "text": [
            "/content/drive/MyDrive/stable_diffusion/Abstract Paintings/A decorative modern abstract painting by Mucha+Da Vinci/NIJI CU-3.png\n",
            "/content/drive/MyDrive/stable_diffusion/Abstract Paintings/A decorative modern abstract painting by Mucha+Da Vinci/NIJI EX-3.png\n",
            "/content/drive/MyDrive/stable_diffusion/Abstract Paintings/A decorative modern abstract painting by Mucha+Da Vinci/NIJI4-3.png\n",
            "/content/drive/MyDrive/stable_diffusion/Abstract Paintings/A decorative modern abstract painting by Mucha+Da Vinci/NIJI5-3.png\n",
            "/content/drive/MyDrive/stable_diffusion/Abstract Paintings/A decorative modern abstract painting by Mucha+Da Vinci/V2-3.png\n",
            "/content/drive/MyDrive/stable_diffusion/Abstract Paintings/A decorative modern abstract painting by Mucha+Da Vinci/V3-3.png\n",
            "/content/drive/MyDrive/stable_diffusion/Abstract Paintings/A decorative modern abstract painting by Mucha+Da Vinci/V4-3.png\n",
            "/content/drive/MyDrive/stable_diffusion/Abstract Paintings/A decorative modern abstract painting by Mucha+Da Vinci/V5-3.png\n",
            "/content/drive/MyDrive/stable_diffusion/Abstract Paintings/Abstract Painting of cityscape Toronto by Childe Hassam+Edgar Payne+sorolla/NIJI CU-4.png\n",
            "/content/drive/MyDrive/stable_diffusion/Abstract Paintings/Abstract Painting of cityscape Toronto by Childe Hassam+Edgar Payne+sorolla/NIJI EX-4.png\n",
            "/content/drive/MyDrive/stable_diffusion/Abstract Paintings/Abstract Painting of cityscape Toronto by Childe Hassam+Edgar Payne+sorolla/NIJI4-4.png\n",
            "/content/drive/MyDrive/stable_diffusion/Abstract Paintings/Abstract Painting of cityscape Toronto by Childe Hassam+Edgar Payne+sorolla/NIJI5-4.png\n",
            "/content/drive/MyDrive/stable_diffusion/Abstract Paintings/Abstract Painting of cityscape Toronto by Childe Hassam+Edgar Payne+sorolla/V2-4.png\n",
            "/content/drive/MyDrive/stable_diffusion/Abstract Paintings/Abstract Painting of cityscape Toronto by Childe Hassam+Edgar Payne+sorolla/V3-4.png\n",
            "/content/drive/MyDrive/stable_diffusion/Abstract Paintings/Abstract Painting of cityscape Toronto by Childe Hassam+Edgar Payne+sorolla/V4-4.png\n",
            "/content/drive/MyDrive/stable_diffusion/Abstract Paintings/Abstract Painting of cityscape Toronto by Childe Hassam+Edgar Payne+sorolla/V5-4.png\n",
            "/content/drive/MyDrive/stable_diffusion/Abstract Paintings/minimalism Abstract painting by the sea/NIJI CU-1.png\n",
            "/content/drive/MyDrive/stable_diffusion/Abstract Paintings/minimalism Abstract painting by the sea/NIJI4-1.png\n",
            "/content/drive/MyDrive/stable_diffusion/Abstract Paintings/minimalism Abstract painting by the sea/NIJI5-1.png\n",
            "/content/drive/MyDrive/stable_diffusion/Abstract Paintings/minimalism Abstract painting by the sea/NJI EX-1.png\n",
            "/content/drive/MyDrive/stable_diffusion/Abstract Paintings/minimalism Abstract painting by the sea/V2-1.png\n",
            "/content/drive/MyDrive/stable_diffusion/Abstract Paintings/minimalism Abstract painting by the sea/V3-1.png\n",
            "/content/drive/MyDrive/stable_diffusion/Abstract Paintings/minimalism Abstract painting by the sea/V4-1.png\n",
            "/content/drive/MyDrive/stable_diffusion/Abstract Paintings/minimalism Abstract painting by the sea/V5-1.png\n",
            "/content/drive/MyDrive/stable_diffusion/Abstract Paintings/minimalism Abstract painting use Gold+black+white by Hiroshi Yoshida/NIJI CU-2.png\n",
            "/content/drive/MyDrive/stable_diffusion/Abstract Paintings/minimalism Abstract painting use Gold+black+white by Hiroshi Yoshida/NIJI EX-2.png\n",
            "/content/drive/MyDrive/stable_diffusion/Abstract Paintings/minimalism Abstract painting use Gold+black+white by Hiroshi Yoshida/NIJI4-2.png\n",
            "/content/drive/MyDrive/stable_diffusion/Abstract Paintings/minimalism Abstract painting use Gold+black+white by Hiroshi Yoshida/NIJI5-2.png\n",
            "/content/drive/MyDrive/stable_diffusion/Abstract Paintings/minimalism Abstract painting use Gold+black+white by Hiroshi Yoshida/V2-2.png\n",
            "/content/drive/MyDrive/stable_diffusion/Abstract Paintings/minimalism Abstract painting use Gold+black+white by Hiroshi Yoshida/V3-2.png\n",
            "/content/drive/MyDrive/stable_diffusion/Abstract Paintings/minimalism Abstract painting use Gold+black+white by Hiroshi Yoshida/V4-2.png\n",
            "/content/drive/MyDrive/stable_diffusion/Abstract Paintings/minimalism Abstract painting use Gold+black+white by Hiroshi Yoshida/V5-2.png\n",
            "/content/drive/MyDrive/stable_diffusion/Concept character/A cute girl character concept art by Mucha+Da Vinci/NIJI CU-3.png\n",
            "/content/drive/MyDrive/stable_diffusion/Concept character/A cute girl character concept art by Mucha+Da Vinci/NIJI EX-3.png\n",
            "/content/drive/MyDrive/stable_diffusion/Concept character/A cute girl character concept art by Mucha+Da Vinci/NIJI4-3.png\n",
            "/content/drive/MyDrive/stable_diffusion/Concept character/A cute girl character concept art by Mucha+Da Vinci/NIJI5-3.png\n",
            "/content/drive/MyDrive/stable_diffusion/Concept character/A cute girl character concept art by Mucha+Da Vinci/V2-3.png\n",
            "/content/drive/MyDrive/stable_diffusion/Concept character/A cute girl character concept art by Mucha+Da Vinci/V3-3.png\n",
            "/content/drive/MyDrive/stable_diffusion/Concept character/A cute girl character concept art by Mucha+Da Vinci/V4-3.png\n",
            "/content/drive/MyDrive/stable_diffusion/Concept character/A cute girl character concept art by Mucha+Da Vinci/V5-3.png\n",
            "/content/drive/MyDrive/stable_diffusion/Concept character/An anime character with blond hair in a purple suit by Hiroshi Yoshida/NIJI CU-2.png\n",
            "/content/drive/MyDrive/stable_diffusion/Concept character/An anime character with blond hair in a purple suit by Hiroshi Yoshida/NIJI EX-2.png\n",
            "/content/drive/MyDrive/stable_diffusion/Concept character/An anime character with blond hair in a purple suit by Hiroshi Yoshida/NIJI4-2.png\n",
            "/content/drive/MyDrive/stable_diffusion/Concept character/An anime character with blond hair in a purple suit by Hiroshi Yoshida/NIJI5-2.png\n",
            "/content/drive/MyDrive/stable_diffusion/Concept character/An anime character with blond hair in a purple suit by Hiroshi Yoshida/V2-2.png\n",
            "/content/drive/MyDrive/stable_diffusion/Concept character/An anime character with blond hair in a purple suit by Hiroshi Yoshida/V3-2.png\n",
            "/content/drive/MyDrive/stable_diffusion/Concept character/An anime character with blond hair in a purple suit by Hiroshi Yoshida/V4-2.png\n",
            "/content/drive/MyDrive/stable_diffusion/Concept character/An anime character with blond hair in a purple suit by Hiroshi Yoshida/V5-2.png\n",
            "/content/drive/MyDrive/stable_diffusion/Concept character/Chinese Divine Dragon vs. Western Evil Dragon Showdown character design/NIJI CU-1.png\n",
            "/content/drive/MyDrive/stable_diffusion/Concept character/Chinese Divine Dragon vs. Western Evil Dragon Showdown character design/NIJI EX-1.png\n",
            "/content/drive/MyDrive/stable_diffusion/Concept character/Chinese Divine Dragon vs. Western Evil Dragon Showdown character design/NIJI4-1.png\n",
            "/content/drive/MyDrive/stable_diffusion/Concept character/Chinese Divine Dragon vs. Western Evil Dragon Showdown character design/NIJI5-1.png\n",
            "/content/drive/MyDrive/stable_diffusion/Concept character/Chinese Divine Dragon vs. Western Evil Dragon Showdown character design/V2-1.png\n",
            "/content/drive/MyDrive/stable_diffusion/Concept character/Chinese Divine Dragon vs. Western Evil Dragon Showdown character design/V3-1.png\n",
            "/content/drive/MyDrive/stable_diffusion/Concept character/Chinese Divine Dragon vs. Western Evil Dragon Showdown character design/V4-1.png\n",
            "/content/drive/MyDrive/stable_diffusion/Concept character/Chinese Divine Dragon vs. Western Evil Dragon Showdown character design/V5-1.png\n",
            "/content/drive/MyDrive/stable_diffusion/Concept character/traditional Chinese painting girl character by Childe Hassam+Edgar Payne+sorolla/NIJI CU-4.png\n",
            "/content/drive/MyDrive/stable_diffusion/Concept character/traditional Chinese painting girl character by Childe Hassam+Edgar Payne+sorolla/NIJI EX-4.png\n",
            "/content/drive/MyDrive/stable_diffusion/Concept character/traditional Chinese painting girl character by Childe Hassam+Edgar Payne+sorolla/NIJI4-4.png\n",
            "/content/drive/MyDrive/stable_diffusion/Concept character/traditional Chinese painting girl character by Childe Hassam+Edgar Payne+sorolla/NIJI5-4.png\n",
            "/content/drive/MyDrive/stable_diffusion/Concept character/traditional Chinese painting girl character by Childe Hassam+Edgar Payne+sorolla/V2-4.png\n",
            "/content/drive/MyDrive/stable_diffusion/Concept character/traditional Chinese painting girl character by Childe Hassam+Edgar Payne+sorolla/V3-4.png\n",
            "/content/drive/MyDrive/stable_diffusion/Concept character/traditional Chinese painting girl character by Childe Hassam+Edgar Payne+sorolla/V4-4.png\n",
            "/content/drive/MyDrive/stable_diffusion/Concept character/traditional Chinese painting girl character by Childe Hassam+Edgar Payne+sorolla/V5-4.png\n",
            "/content/drive/MyDrive/stable_diffusion/Landscapes/Chinese fujian Fishing villages by Childe Hassam+Edgar Payne+sorolla/NIJI CU-4.png\n",
            "/content/drive/MyDrive/stable_diffusion/Landscapes/Chinese fujian Fishing villages by Childe Hassam+Edgar Payne+sorolla/NIJI EX-4.png\n",
            "/content/drive/MyDrive/stable_diffusion/Landscapes/Chinese fujian Fishing villages by Childe Hassam+Edgar Payne+sorolla/NIJI4-4.png\n",
            "/content/drive/MyDrive/stable_diffusion/Landscapes/Chinese fujian Fishing villages by Childe Hassam+Edgar Payne+sorolla/NIJI5-4.png\n",
            "/content/drive/MyDrive/stable_diffusion/Landscapes/Chinese fujian Fishing villages by Childe Hassam+Edgar Payne+sorolla/V2-4.png\n",
            "/content/drive/MyDrive/stable_diffusion/Landscapes/Chinese fujian Fishing villages by Childe Hassam+Edgar Payne+sorolla/v3-4.png\n",
            "/content/drive/MyDrive/stable_diffusion/Landscapes/Chinese fujian Fishing villages by Childe Hassam+Edgar Payne+sorolla/v4-4.png\n",
            "/content/drive/MyDrive/stable_diffusion/Landscapes/Chinese fujian Fishing villages by Childe Hassam+Edgar Payne+sorolla/v5-4.png\n",
            "/content/drive/MyDrive/stable_diffusion/Landscapes/Florida Aesthetic Impressionist Scenery/NIJI CU-1.png\n",
            "/content/drive/MyDrive/stable_diffusion/Landscapes/Florida Aesthetic Impressionist Scenery/NIJI EX-1.png\n",
            "/content/drive/MyDrive/stable_diffusion/Landscapes/Florida Aesthetic Impressionist Scenery/NIJI4-1.png\n",
            "/content/drive/MyDrive/stable_diffusion/Landscapes/Florida Aesthetic Impressionist Scenery/NIJI5-1.png\n",
            "/content/drive/MyDrive/stable_diffusion/Landscapes/Florida Aesthetic Impressionist Scenery/V2-1.png\n",
            "/content/drive/MyDrive/stable_diffusion/Landscapes/Florida Aesthetic Impressionist Scenery/v3-1.png\n",
            "/content/drive/MyDrive/stable_diffusion/Landscapes/Florida Aesthetic Impressionist Scenery/v4-1.png\n",
            "/content/drive/MyDrive/stable_diffusion/Landscapes/Florida Aesthetic Impressionist Scenery/v5-1.png\n",
            "/content/drive/MyDrive/stable_diffusion/Landscapes/Night on Tokyo Street by Mucha+Da Vinci/NIJI CU-3.png\n",
            "/content/drive/MyDrive/stable_diffusion/Landscapes/Night on Tokyo Street by Mucha+Da Vinci/NIJI EX-3.png\n",
            "/content/drive/MyDrive/stable_diffusion/Landscapes/Night on Tokyo Street by Mucha+Da Vinci/NIJI4-3.png\n",
            "/content/drive/MyDrive/stable_diffusion/Landscapes/Night on Tokyo Street by Mucha+Da Vinci/NIJI5-3.png\n",
            "/content/drive/MyDrive/stable_diffusion/Landscapes/Night on Tokyo Street by Mucha+Da Vinci/V2-3.png\n",
            "/content/drive/MyDrive/stable_diffusion/Landscapes/Night on Tokyo Street by Mucha+Da Vinci/v3-3.png\n",
            "/content/drive/MyDrive/stable_diffusion/Landscapes/Night on Tokyo Street by Mucha+Da Vinci/v4-3.png\n",
            "/content/drive/MyDrive/stable_diffusion/Landscapes/Night on Tokyo Street by Mucha+Da Vinci/v5-3.png\n",
            "/content/drive/MyDrive/stable_diffusion/Landscapes/sunny and gentle sun in Rural landscape farms by Hiroshi Yoshida/NIJI CU-2.png\n",
            "/content/drive/MyDrive/stable_diffusion/Landscapes/sunny and gentle sun in Rural landscape farms by Hiroshi Yoshida/NIJI EX-2.png\n",
            "/content/drive/MyDrive/stable_diffusion/Landscapes/sunny and gentle sun in Rural landscape farms by Hiroshi Yoshida/NIJI4-2.png\n",
            "/content/drive/MyDrive/stable_diffusion/Landscapes/sunny and gentle sun in Rural landscape farms by Hiroshi Yoshida/NIJI5-2.png\n",
            "/content/drive/MyDrive/stable_diffusion/Landscapes/sunny and gentle sun in Rural landscape farms by Hiroshi Yoshida/V2-2.png\n",
            "/content/drive/MyDrive/stable_diffusion/Landscapes/sunny and gentle sun in Rural landscape farms by Hiroshi Yoshida/v3-2.png\n",
            "/content/drive/MyDrive/stable_diffusion/Landscapes/sunny and gentle sun in Rural landscape farms by Hiroshi Yoshida/v4-2.png\n",
            "/content/drive/MyDrive/stable_diffusion/Landscapes/sunny and gentle sun in Rural landscape farms by Hiroshi Yoshida/v5-2.png\n",
            "/content/drive/MyDrive/stable_diffusion/Portraits/A beautiful girl in the sun Portraits by Childe Hassam+Edgar Payne+sorolla/NIJI CU-1.png\n",
            "/content/drive/MyDrive/stable_diffusion/Portraits/A beautiful girl in the sun Portraits by Childe Hassam+Edgar Payne+sorolla/NIJI EX-1.png\n",
            "/content/drive/MyDrive/stable_diffusion/Portraits/A beautiful girl in the sun Portraits by Childe Hassam+Edgar Payne+sorolla/NIJI4-1.png\n",
            "/content/drive/MyDrive/stable_diffusion/Portraits/A beautiful girl in the sun Portraits by Childe Hassam+Edgar Payne+sorolla/NIJI5-1.png\n",
            "/content/drive/MyDrive/stable_diffusion/Portraits/A beautiful girl in the sun Portraits by Childe Hassam+Edgar Payne+sorolla/v2-1.png\n",
            "/content/drive/MyDrive/stable_diffusion/Portraits/A beautiful girl in the sun Portraits by Childe Hassam+Edgar Payne+sorolla/v3-1.png\n",
            "/content/drive/MyDrive/stable_diffusion/Portraits/A beautiful girl in the sun Portraits by Childe Hassam+Edgar Payne+sorolla/v4-1.png\n",
            "/content/drive/MyDrive/stable_diffusion/Portraits/A beautiful girl in the sun Portraits by Childe Hassam+Edgar Payne+sorolla/v5-1.png\n",
            "/content/drive/MyDrive/stable_diffusion/Portraits/A domineering Caribbean pirate Portraits by Hiroshi Yoshida/NIJI CU-2.png\n",
            "/content/drive/MyDrive/stable_diffusion/Portraits/A domineering Caribbean pirate Portraits by Hiroshi Yoshida/NIJI EX-2.png\n",
            "/content/drive/MyDrive/stable_diffusion/Portraits/A domineering Caribbean pirate Portraits by Hiroshi Yoshida/NIJI4-2.png\n",
            "/content/drive/MyDrive/stable_diffusion/Portraits/A domineering Caribbean pirate Portraits by Hiroshi Yoshida/NIJI5-2.png\n",
            "/content/drive/MyDrive/stable_diffusion/Portraits/A domineering Caribbean pirate Portraits by Hiroshi Yoshida/v2-2.png\n",
            "/content/drive/MyDrive/stable_diffusion/Portraits/A domineering Caribbean pirate Portraits by Hiroshi Yoshida/v3-2.png\n",
            "/content/drive/MyDrive/stable_diffusion/Portraits/A domineering Caribbean pirate Portraits by Hiroshi Yoshida/v4-2.png\n",
            "/content/drive/MyDrive/stable_diffusion/Portraits/A domineering Caribbean pirate Portraits by Hiroshi Yoshida/v5-2.png\n",
            "/content/drive/MyDrive/stable_diffusion/Portraits/A wise white haired magic wizard Portraits/NIJI CU-3.png\n",
            "/content/drive/MyDrive/stable_diffusion/Portraits/A wise white haired magic wizard Portraits/NIJI EX-3.png\n",
            "/content/drive/MyDrive/stable_diffusion/Portraits/A wise white haired magic wizard Portraits/NIJI4-3.png\n",
            "/content/drive/MyDrive/stable_diffusion/Portraits/A wise white haired magic wizard Portraits/NIJI5-3.png\n",
            "/content/drive/MyDrive/stable_diffusion/Portraits/A wise white haired magic wizard Portraits/v2-3.png\n",
            "/content/drive/MyDrive/stable_diffusion/Portraits/A wise white haired magic wizard Portraits/v3-3.png\n",
            "/content/drive/MyDrive/stable_diffusion/Portraits/A wise white haired magic wizard Portraits/v4-3.png\n",
            "/content/drive/MyDrive/stable_diffusion/Portraits/A wise white haired magic wizard Portraits/v5-3.png\n",
            "/content/drive/MyDrive/stable_diffusion/Portraits/pastel painting of a Handsome youth tide man Portraits by Mucha+Da Vinci/NIJI CU-4.png\n",
            "/content/drive/MyDrive/stable_diffusion/Portraits/pastel painting of a Handsome youth tide man Portraits by Mucha+Da Vinci/NIJI EX-4.png\n",
            "/content/drive/MyDrive/stable_diffusion/Portraits/pastel painting of a Handsome youth tide man Portraits by Mucha+Da Vinci/NIJI4-4.png\n",
            "/content/drive/MyDrive/stable_diffusion/Portraits/pastel painting of a Handsome youth tide man Portraits by Mucha+Da Vinci/NIJI5-4.png\n",
            "/content/drive/MyDrive/stable_diffusion/Portraits/pastel painting of a Handsome youth tide man Portraits by Mucha+Da Vinci/v2-4.png\n",
            "/content/drive/MyDrive/stable_diffusion/Portraits/pastel painting of a Handsome youth tide man Portraits by Mucha+Da Vinci/v3-4.png\n",
            "/content/drive/MyDrive/stable_diffusion/Portraits/pastel painting of a Handsome youth tide man Portraits by Mucha+Da Vinci/v4-4.png\n",
            "/content/drive/MyDrive/stable_diffusion/Portraits/pastel painting of a Handsome youth tide man Portraits by Mucha+Da Vinci/v5-4.png\n",
            "/content/drive/MyDrive/stable_diffusion/Still Lifes/Impressionist oil painting of sunny and gentle Fruit static still life oil painting/NIJI CU-1.png\n",
            "/content/drive/MyDrive/stable_diffusion/Still Lifes/Impressionist oil painting of sunny and gentle Fruit static still life oil painting/NIJI EX-1.png\n",
            "/content/drive/MyDrive/stable_diffusion/Still Lifes/Impressionist oil painting of sunny and gentle Fruit static still life oil painting/NIJI4-1.png\n",
            "/content/drive/MyDrive/stable_diffusion/Still Lifes/Impressionist oil painting of sunny and gentle Fruit static still life oil painting/NIJI5-1.png\n",
            "/content/drive/MyDrive/stable_diffusion/Still Lifes/Impressionist oil painting of sunny and gentle Fruit static still life oil painting/v2-1.png\n",
            "/content/drive/MyDrive/stable_diffusion/Still Lifes/Impressionist oil painting of sunny and gentle Fruit static still life oil painting/v3-1.png\n",
            "/content/drive/MyDrive/stable_diffusion/Still Lifes/Impressionist oil painting of sunny and gentle Fruit static still life oil painting/v4-1.png\n",
            "/content/drive/MyDrive/stable_diffusion/Still Lifes/Impressionist oil painting of sunny and gentle Fruit static still life oil painting/v5-1.png\n",
            "/content/drive/MyDrive/stable_diffusion/Still Lifes/Oil painting of a classical vintage still life by Mucha+Da Vinci/NIJI CU-3.png\n",
            "/content/drive/MyDrive/stable_diffusion/Still Lifes/Oil painting of a classical vintage still life by Mucha+Da Vinci/NIJI EX-3.png\n",
            "/content/drive/MyDrive/stable_diffusion/Still Lifes/Oil painting of a classical vintage still life by Mucha+Da Vinci/NIJI4-3.png\n",
            "/content/drive/MyDrive/stable_diffusion/Still Lifes/Oil painting of a classical vintage still life by Mucha+Da Vinci/NIJI5-3.png\n",
            "/content/drive/MyDrive/stable_diffusion/Still Lifes/Oil painting of a classical vintage still life by Mucha+Da Vinci/v2-3.png\n",
            "/content/drive/MyDrive/stable_diffusion/Still Lifes/Oil painting of a classical vintage still life by Mucha+Da Vinci/v3-3.png\n",
            "/content/drive/MyDrive/stable_diffusion/Still Lifes/Oil painting of a classical vintage still life by Mucha+Da Vinci/v4-3.png\n",
            "/content/drive/MyDrive/stable_diffusion/Still Lifes/Oil painting of a classical vintage still life by Mucha+Da Vinci/v5-3.png\n",
            "/content/drive/MyDrive/stable_diffusion/Still Lifes/oil painting of a flower still lifes by Childe Hassam+Edgar Payne+sorolla/NIJI CU-4.png\n",
            "/content/drive/MyDrive/stable_diffusion/Still Lifes/oil painting of a flower still lifes by Childe Hassam+Edgar Payne+sorolla/NIJI EX-4.png\n",
            "/content/drive/MyDrive/stable_diffusion/Still Lifes/oil painting of a flower still lifes by Childe Hassam+Edgar Payne+sorolla/NIJI4-4.png\n",
            "/content/drive/MyDrive/stable_diffusion/Still Lifes/oil painting of a flower still lifes by Childe Hassam+Edgar Payne+sorolla/NIJI5-4.png\n",
            "/content/drive/MyDrive/stable_diffusion/Still Lifes/oil painting of a flower still lifes by Childe Hassam+Edgar Payne+sorolla/v2-4.png\n",
            "/content/drive/MyDrive/stable_diffusion/Still Lifes/oil painting of a flower still lifes by Childe Hassam+Edgar Payne+sorolla/v3-4.png\n",
            "/content/drive/MyDrive/stable_diffusion/Still Lifes/oil painting of a flower still lifes by Childe Hassam+Edgar Payne+sorolla/v4-4.png\n",
            "/content/drive/MyDrive/stable_diffusion/Still Lifes/oil painting of a flower still lifes by Childe Hassam+Edgar Payne+sorolla/v5-4.png\n",
            "/content/drive/MyDrive/stable_diffusion/Still Lifes/still life painting of a bowl of fruit by Hiroshi Yoshida/NIJI CU-2.png\n",
            "/content/drive/MyDrive/stable_diffusion/Still Lifes/still life painting of a bowl of fruit by Hiroshi Yoshida/NIJI EX-2.png\n",
            "/content/drive/MyDrive/stable_diffusion/Still Lifes/still life painting of a bowl of fruit by Hiroshi Yoshida/NIJI4-2.png\n",
            "/content/drive/MyDrive/stable_diffusion/Still Lifes/still life painting of a bowl of fruit by Hiroshi Yoshida/NIJI5-2.png\n",
            "/content/drive/MyDrive/stable_diffusion/Still Lifes/still life painting of a bowl of fruit by Hiroshi Yoshida/v2-2.png\n",
            "/content/drive/MyDrive/stable_diffusion/Still Lifes/still life painting of a bowl of fruit by Hiroshi Yoshida/v3-2.png\n",
            "/content/drive/MyDrive/stable_diffusion/Still Lifes/still life painting of a bowl of fruit by Hiroshi Yoshida/v4-2.png\n",
            "/content/drive/MyDrive/stable_diffusion/Still Lifes/still life painting of a bowl of fruit by Hiroshi Yoshida/v5-2.png\n",
            "/content/drive/MyDrive/stable_diffusion/Watercolor/A watercolor of an old man who long white hair by Hiroshi Yoshida/NIJI CU-2.png\n",
            "/content/drive/MyDrive/stable_diffusion/Watercolor/A watercolor of an old man who long white hair by Hiroshi Yoshida/NIJI EX-2.png\n",
            "/content/drive/MyDrive/stable_diffusion/Watercolor/A watercolor of an old man who long white hair by Hiroshi Yoshida/NIJI4-2.png\n",
            "/content/drive/MyDrive/stable_diffusion/Watercolor/A watercolor of an old man who long white hair by Hiroshi Yoshida/NIJI5-2.png\n",
            "/content/drive/MyDrive/stable_diffusion/Watercolor/A watercolor of an old man who long white hair by Hiroshi Yoshida/V2-2.png\n",
            "/content/drive/MyDrive/stable_diffusion/Watercolor/A watercolor of an old man who long white hair by Hiroshi Yoshida/V3-2.png\n",
            "/content/drive/MyDrive/stable_diffusion/Watercolor/A watercolor of an old man who long white hair by Hiroshi Yoshida/V4-2.png\n",
            "/content/drive/MyDrive/stable_diffusion/Watercolor/A watercolor of an old man who long white hair by Hiroshi Yoshida/V5-2.png\n",
            "/content/drive/MyDrive/stable_diffusion/Watercolor/Kerala watercolor landscape painting/NIJI CU-1.png\n",
            "/content/drive/MyDrive/stable_diffusion/Watercolor/Kerala watercolor landscape painting/NIJI EX-1.png\n",
            "/content/drive/MyDrive/stable_diffusion/Watercolor/Kerala watercolor landscape painting/NIJI4-1.png\n",
            "/content/drive/MyDrive/stable_diffusion/Watercolor/Kerala watercolor landscape painting/NIJI5-1.png\n",
            "/content/drive/MyDrive/stable_diffusion/Watercolor/Kerala watercolor landscape painting/V2-1.png\n",
            "/content/drive/MyDrive/stable_diffusion/Watercolor/Kerala watercolor landscape painting/V3-1.png\n",
            "/content/drive/MyDrive/stable_diffusion/Watercolor/Kerala watercolor landscape painting/V4-1.png\n",
            "/content/drive/MyDrive/stable_diffusion/Watercolor/Kerala watercolor landscape painting/V5-1.png\n",
            "/content/drive/MyDrive/stable_diffusion/Watercolor/Tree ring print watercolor painring by Mucha+Da Vinci/NIJI CU-3.png\n",
            "/content/drive/MyDrive/stable_diffusion/Watercolor/Tree ring print watercolor painring by Mucha+Da Vinci/NIJI EX-3.png\n",
            "/content/drive/MyDrive/stable_diffusion/Watercolor/Tree ring print watercolor painring by Mucha+Da Vinci/NIJI4-3.png\n",
            "/content/drive/MyDrive/stable_diffusion/Watercolor/Tree ring print watercolor painring by Mucha+Da Vinci/NIJI5-3.png\n",
            "/content/drive/MyDrive/stable_diffusion/Watercolor/Tree ring print watercolor painring by Mucha+Da Vinci/V2-3.png\n",
            "/content/drive/MyDrive/stable_diffusion/Watercolor/Tree ring print watercolor painring by Mucha+Da Vinci/V3-3.png\n",
            "/content/drive/MyDrive/stable_diffusion/Watercolor/Tree ring print watercolor painring by Mucha+Da Vinci/V4-3.png\n",
            "/content/drive/MyDrive/stable_diffusion/Watercolor/Tree ring print watercolor painring by Mucha+Da Vinci/V5-3.png\n",
            "/content/drive/MyDrive/stable_diffusion/Watercolor/owl standing on spell books watercolor painting by Childe Hassam+Edgar Payne+sorolla/NIJI CU-4.png\n",
            "/content/drive/MyDrive/stable_diffusion/Watercolor/owl standing on spell books watercolor painting by Childe Hassam+Edgar Payne+sorolla/NIJI EX-4.png\n",
            "/content/drive/MyDrive/stable_diffusion/Watercolor/owl standing on spell books watercolor painting by Childe Hassam+Edgar Payne+sorolla/NIJI4-4.png\n",
            "/content/drive/MyDrive/stable_diffusion/Watercolor/owl standing on spell books watercolor painting by Childe Hassam+Edgar Payne+sorolla/NIJI5-4.png\n",
            "/content/drive/MyDrive/stable_diffusion/Watercolor/owl standing on spell books watercolor painting by Childe Hassam+Edgar Payne+sorolla/V2-4.png\n",
            "/content/drive/MyDrive/stable_diffusion/Watercolor/owl standing on spell books watercolor painting by Childe Hassam+Edgar Payne+sorolla/V3-4.png\n",
            "/content/drive/MyDrive/stable_diffusion/Watercolor/owl standing on spell books watercolor painting by Childe Hassam+Edgar Payne+sorolla/V4-4.png\n",
            "/content/drive/MyDrive/stable_diffusion/Watercolor/owl standing on spell books watercolor painting by Childe Hassam+Edgar Payne+sorolla/V5-4.png\n"
          ]
        }
      ]
    },
    {
      "cell_type": "code",
      "source": [
        "from IPython.display import display\n",
        "prompt_similarities = []\n",
        "esthetic_qualities = []\n",
        "embeddings = []\n",
        "labels = []\n",
        "\n",
        "start = 96\n",
        "\n",
        "for i, f in enumerate(file_list[start:start+12]):\n",
        "  if \"v2\" in f:\n",
        "    sd = \"V2\"\n",
        "  elif \"v3\" in f:\n",
        "    sd = \"V3\"\n",
        "  elif \"v4\" in f:\n",
        "    sd = \"V4\"\n",
        "  elif \"v5\" in f:\n",
        "    sd = \"V5\"\n",
        "  elif \"niji4\" in f:\n",
        "    sd = \"NIJI4\"\n",
        "  elif \"niji5\" in f:\n",
        "    sd = \"NIJI5\"\n",
        "  elif \"niji expressive\" in f:\n",
        "    sd = \"NIJI EX\"\n",
        "  elif \"niji cute\" in f:\n",
        "    sd = \"NIJI CU\"\n",
        "  else:\n",
        "    sd = \"SD\"\n",
        "  c = i%4\n",
        "  labels.append(sd+str(c))\n",
        "  parts = f.split(\"/\")\n",
        "  subject = parts[5]\n",
        "  prompt = parts[6]\n",
        "  # print(sd, c, subject, prompt, f)\n",
        "\n",
        "  img = Image.open(f)\n",
        "  img_resized = img.resize((336, 336))\n",
        "  # display(img_resized)\n",
        "\n",
        "  image = preprocess(img_resized).unsqueeze(0).to(device)\n",
        "  text = clip.tokenize([\"fake art\", \"real art\", \"bad art\", \"good art\", \n",
        "    prompt]).to(device)\n",
        "\n",
        "  with torch.no_grad():\n",
        "    image_features = model.encode_image(image)\n",
        "    image_features /= image_features.norm(dim=-1, keepdim=True)\n",
        "    embeddings.append(image_features.flatten().cpu().tolist())\n",
        "    text_features = model.encode_text(text)\n",
        "    text_features /= text_features.norm(dim=-1, keepdim=True)\n",
        "    similarity = text_features.cpu().numpy() @ image_features.cpu().numpy().T\n",
        "\n",
        "  fake = similarity[0][0]\n",
        "  real = similarity[1][0]\n",
        "  bad = similarity[2][0]\n",
        "  good = similarity[3][0]\n",
        "  esthetic_quality = (real-fake) + (good-bad)\n",
        "\n",
        "  prompt_similarity = similarity[4][0]\n",
        "\n",
        "  prompt_similarities.append(esthetic_quality)\n",
        "  esthetic_qualities.append(prompt_similarity)\n",
        "\n",
        "  print(\"{:7.4f}\".format(prompt_similarity), \"{:7.4f}\".format(esthetic_quality), f)\n",
        "\n",
        "import matplotlib.pyplot as plt\n",
        "fig, ax = plt.subplots(figsize=(7, 7), dpi=80)\n",
        "\n",
        "plt.xlabel(\"matches less <--    Prompt Similarity    --> matches more\", fontsize=12)\n",
        "plt.ylabel(\"lower <--    Esthetic Quality    --> higher\", fontsize=12)\n",
        "plt.scatter(esthetic_qualities[8:12], prompt_similarities[8:12], s=100, label=\"V2\")\n",
        "plt.scatter(esthetic_qualities[4:8], prompt_similarities[4:8], s=100, label=\"V3\")\n",
        "plt.scatter(esthetic_qualities[0:4], prompt_similarities[0:4], s=100, label=\"V4\")\n",
        "plt.scatter(esthetic_qualities[12:16], prompt_similarities[12:16], s=100, label=\"V5\")\n",
        "plt.scatter(esthetic_qualities[16:20], prompt_similarities[16:20], s=100, label=\"NIJI4\")\n",
        "plt.scatter(esthetic_qualities[20:24], prompt_similarities[20:24], s=100, label=\"NIJI5\")\n",
        "plt.scatter(esthetic_qualities[24:28], prompt_similarities[24:28], s=100, label=\"NIJI EX\")\n",
        "plt.scatter(esthetic_qualities[28:32], prompt_similarities[28:32], s=100, label=\"NIJI CU\")\n",
        "plt.legend(loc=\"lower left\")\n",
        "\n",
        "for i, txt in enumerate(labels):\n",
        "  ax.annotate(txt, (esthetic_qualities[i]+0.0009, prompt_similarities[i]-0.0003))\n",
        "plt.show()"
      ],
      "metadata": {
        "colab": {
          "base_uri": "https://localhost:8080/",
          "height": 738
        },
        "id": "DUVv6fRJMfn8",
        "outputId": "16e6cdd9-163f-4857-849b-8bd97a5df9fa"
      },
      "execution_count": 109,
      "outputs": [
        {
          "output_type": "stream",
          "name": "stdout",
          "text": [
            " 0.0227  0.0105 /content/drive/MyDrive/stable_diffusion/Portraits/A beautiful girl in the sun Portraits by Childe Hassam+Edgar Payne+sorolla/NIJI CU-1.png\n",
            " 0.0771  0.0228 /content/drive/MyDrive/stable_diffusion/Portraits/A beautiful girl in the sun Portraits by Childe Hassam+Edgar Payne+sorolla/NIJI EX-1.png\n",
            " 0.0026  0.0461 /content/drive/MyDrive/stable_diffusion/Portraits/A beautiful girl in the sun Portraits by Childe Hassam+Edgar Payne+sorolla/NIJI4-1.png\n",
            " 0.1089  0.0273 /content/drive/MyDrive/stable_diffusion/Portraits/A beautiful girl in the sun Portraits by Childe Hassam+Edgar Payne+sorolla/NIJI5-1.png\n",
            " 0.0109  0.0233 /content/drive/MyDrive/stable_diffusion/Portraits/A beautiful girl in the sun Portraits by Childe Hassam+Edgar Payne+sorolla/v2-1.png\n",
            " 0.0610  0.0084 /content/drive/MyDrive/stable_diffusion/Portraits/A beautiful girl in the sun Portraits by Childe Hassam+Edgar Payne+sorolla/v3-1.png\n",
            " 0.0059  0.0477 /content/drive/MyDrive/stable_diffusion/Portraits/A beautiful girl in the sun Portraits by Childe Hassam+Edgar Payne+sorolla/v4-1.png\n",
            "-0.0238  0.0359 /content/drive/MyDrive/stable_diffusion/Portraits/A beautiful girl in the sun Portraits by Childe Hassam+Edgar Payne+sorolla/v5-1.png\n",
            " 0.2810  0.0098 /content/drive/MyDrive/stable_diffusion/Portraits/A domineering Caribbean pirate Portraits by Hiroshi Yoshida/NIJI CU-2.png\n",
            " 0.2759  0.0208 /content/drive/MyDrive/stable_diffusion/Portraits/A domineering Caribbean pirate Portraits by Hiroshi Yoshida/NIJI EX-2.png\n",
            " 0.3115  0.0378 /content/drive/MyDrive/stable_diffusion/Portraits/A domineering Caribbean pirate Portraits by Hiroshi Yoshida/NIJI4-2.png\n",
            " 0.3169  0.0225 /content/drive/MyDrive/stable_diffusion/Portraits/A domineering Caribbean pirate Portraits by Hiroshi Yoshida/NIJI5-2.png\n"
          ]
        },
        {
          "output_type": "display_data",
          "data": {
            "text/plain": [
              "<Figure size 560x560 with 1 Axes>"
            ],
            "image/png": "[encoded data removed]"
          },
          "metadata": {}
        }
      ]
    },
    {
      "cell_type": "code",
      "source": [
        "print(esthetic_qualities)\n",
        "print(prompt_similarities)\n"
      ],
      "metadata": {
        "colab": {
          "base_uri": "https://localhost:8080/"
        },
        "id": "8UxTNlFbp_Cr",
        "outputId": "23076157-1b96-4020-b8a5-2ba95947f2eb"
      },
      "execution_count": 110,
      "outputs": [
        {
          "output_type": "stream",
          "name": "stdout",
          "text": [
            "[0.0227, 0.0771, 0.002579, 0.10895, 0.0109, 0.061, 0.00587, -0.02382, 0.281, 0.276, 0.3115, 0.317]\n",
            "[0.0105, 0.02283, 0.04614, 0.02734, 0.02332, 0.00842, 0.04773, 0.0359, 0.009766, 0.02075, 0.03784, 0.02246]\n"
          ]
        }
      ]
    }
  ]
}