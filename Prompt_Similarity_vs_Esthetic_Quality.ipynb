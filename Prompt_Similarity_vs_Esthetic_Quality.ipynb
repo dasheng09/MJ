{
  "nbformat": 4,
  "nbformat_minor": 0,
  "metadata": {
    "colab": {
      "provenance": [],
      "include_colab_link": true
    },
    "kernelspec": {
      "name": "python3",
      "display_name": "Python 3"
    },
    "language_info": {
      "name": "python"
    },
    "accelerator": "GPU"
  },
  "cells": [
    {
      "cell_type": "markdown",
      "metadata": {
        "id": "view-in-github",
        "colab_type": "text"
      },
      "source": [
        "<a href=\"https://colab.research.google.com/github/dasheng09/MJ/blob/main/Prompt_Similarity_vs_Esthetic_Quality.ipynb\" target=\"_parent\"><img src=\"https://colab.research.google.com/assets/colab-badge.svg\" alt=\"Open In Colab\"/></a>"
      ]
    },
    {
      "cell_type": "code",
      "metadata": {
        "id": "62-fEt6zKElK",
        "colab": {
          "base_uri": "https://localhost:8080/"
        },
        "outputId": "623847a1-af0d-46df-b7a1-645970471b49"
      },
      "source": [
        "!pip install ftfy regex tqdm\n",
        "!pip install git+https://github.com/openai/CLIP.git"
      ],
      "execution_count": 43,
      "outputs": [
        {
          "output_type": "stream",
          "name": "stdout",
          "text": [
            "Looking in indexes: https://pypi.org/simple, https://us-python.pkg.dev/colab-wheels/public/simple/\n",
            "Requirement already satisfied: ftfy in /usr/local/lib/python3.9/dist-packages (6.1.1)\n",
            "Requirement already satisfied: regex in /usr/local/lib/python3.9/dist-packages (2022.10.31)\n",
            "Requirement already satisfied: tqdm in /usr/local/lib/python3.9/dist-packages (4.65.0)\n",
            "Requirement already satisfied: wcwidth>=0.2.5 in /usr/local/lib/python3.9/dist-packages (from ftfy) (0.2.6)\n",
            "Looking in indexes: https://pypi.org/simple, https://us-python.pkg.dev/colab-wheels/public/simple/\n",
            "Collecting git+https://github.com/openai/CLIP.git\n",
            "  Cloning https://github.com/openai/CLIP.git to /tmp/pip-req-build-0vrwx_8y\n",
            "  Running command git clone --filter=blob:none --quiet https://github.com/openai/CLIP.git /tmp/pip-req-build-0vrwx_8y\n",
            "  Resolved https://github.com/openai/CLIP.git to commit a9b1bf5920416aaeaec965c25dd9e8f98c864f16\n",
            "  Preparing metadata (setup.py) ... \u001b[?25l\u001b[?25hdone\n",
            "Requirement already satisfied: ftfy in /usr/local/lib/python3.9/dist-packages (from clip==1.0) (6.1.1)\n",
            "Requirement already satisfied: regex in /usr/local/lib/python3.9/dist-packages (from clip==1.0) (2022.10.31)\n",
            "Requirement already satisfied: tqdm in /usr/local/lib/python3.9/dist-packages (from clip==1.0) (4.65.0)\n",
            "Requirement already satisfied: torch in /usr/local/lib/python3.9/dist-packages (from clip==1.0) (2.0.0+cu118)\n",
            "Requirement already satisfied: torchvision in /usr/local/lib/python3.9/dist-packages (from clip==1.0) (0.15.1+cu118)\n",
            "Requirement already satisfied: wcwidth>=0.2.5 in /usr/local/lib/python3.9/dist-packages (from ftfy->clip==1.0) (0.2.6)\n",
            "Requirement already satisfied: typing-extensions in /usr/local/lib/python3.9/dist-packages (from torch->clip==1.0) (4.5.0)\n",
            "Requirement already satisfied: jinja2 in /usr/local/lib/python3.9/dist-packages (from torch->clip==1.0) (3.1.2)\n",
            "Requirement already satisfied: filelock in /usr/local/lib/python3.9/dist-packages (from torch->clip==1.0) (3.11.0)\n",
            "Requirement already satisfied: sympy in /usr/local/lib/python3.9/dist-packages (from torch->clip==1.0) (1.11.1)\n",
            "Requirement already satisfied: networkx in /usr/local/lib/python3.9/dist-packages (from torch->clip==1.0) (3.1)\n",
            "Requirement already satisfied: triton==2.0.0 in /usr/local/lib/python3.9/dist-packages (from torch->clip==1.0) (2.0.0)\n",
            "Requirement already satisfied: cmake in /usr/local/lib/python3.9/dist-packages (from triton==2.0.0->torch->clip==1.0) (3.25.2)\n",
            "Requirement already satisfied: lit in /usr/local/lib/python3.9/dist-packages (from triton==2.0.0->torch->clip==1.0) (16.0.1)\n",
            "Requirement already satisfied: numpy in /usr/local/lib/python3.9/dist-packages (from torchvision->clip==1.0) (1.22.4)\n",
            "Requirement already satisfied: pillow!=8.3.*,>=5.3.0 in /usr/local/lib/python3.9/dist-packages (from torchvision->clip==1.0) (8.4.0)\n",
            "Requirement already satisfied: requests in /usr/local/lib/python3.9/dist-packages (from torchvision->clip==1.0) (2.27.1)\n",
            "Requirement already satisfied: MarkupSafe>=2.0 in /usr/local/lib/python3.9/dist-packages (from jinja2->torch->clip==1.0) (2.1.2)\n",
            "Requirement already satisfied: urllib3<1.27,>=1.21.1 in /usr/local/lib/python3.9/dist-packages (from requests->torchvision->clip==1.0) (1.26.15)\n",
            "Requirement already satisfied: charset-normalizer~=2.0.0 in /usr/local/lib/python3.9/dist-packages (from requests->torchvision->clip==1.0) (2.0.12)\n",
            "Requirement already satisfied: idna<4,>=2.5 in /usr/local/lib/python3.9/dist-packages (from requests->torchvision->clip==1.0) (3.4)\n",
            "Requirement already satisfied: certifi>=2017.4.17 in /usr/local/lib/python3.9/dist-packages (from requests->torchvision->clip==1.0) (2022.12.7)\n",
            "Requirement already satisfied: mpmath>=0.19 in /usr/local/lib/python3.9/dist-packages (from sympy->torch->clip==1.0) (1.3.0)\n"
          ]
        }
      ]
    },
    {
      "cell_type": "code",
      "source": [
        "import clip\n",
        "print(clip.available_models())"
      ],
      "metadata": {
        "colab": {
          "base_uri": "https://localhost:8080/"
        },
        "id": "kbXDEPwHUYKr",
        "outputId": "cddad260-e28f-4e0e-f38e-6aa10423ab03"
      },
      "execution_count": 44,
      "outputs": [
        {
          "output_type": "stream",
          "name": "stdout",
          "text": [
            "['RN50', 'RN101', 'RN50x4', 'RN50x16', 'RN50x64', 'ViT-B/32', 'ViT-B/16', 'ViT-L/14', 'ViT-L/14@336px']\n"
          ]
        }
      ]
    },
    {
      "cell_type": "code",
      "metadata": {
        "id": "pLf1HrjgKTKB"
      },
      "source": [
        "import torch\n",
        "import clip\n",
        "from PIL import Image\n",
        "device = \"cuda\" if torch.cuda.is_available() else \"cpu\"\n",
        "model, preprocess = clip.load(\"ViT-L/14@336px\", device=device)"
      ],
      "execution_count": 45,
      "outputs": []
    },
    {
      "cell_type": "code",
      "source": [
        "import glob\n",
        "file_list = glob.glob(\"/content/drive/MyDrive/AI/*/*.png\")\n",
        "file_list.sort()"
      ],
      "metadata": {
        "id": "1Bl5XeosL4zl"
      },
      "execution_count": 46,
      "outputs": []
    },
    {
      "cell_type": "code",
      "source": [
        "print(file_list[96:96+12])"
      ],
      "metadata": {
        "colab": {
          "base_uri": "https://localhost:8080/"
        },
        "id": "HwpYNn7-MOMN",
        "outputId": "663788ea-6b8b-4ec1-8daf-8d820aadae03"
      },
      "execution_count": 47,
      "outputs": [
        {
          "output_type": "stream",
          "name": "stdout",
          "text": [
            "[]\n"
          ]
        }
      ]
    },
    {
      "cell_type": "code",
      "source": [
        "from PIL import ImageFont, ImageDraw\n",
        "fnt = ImageFont.truetype('/usr/share/fonts/truetype/liberation/LiberationSans-Bold.ttf', 40)\n",
        "dimensions = {\"Abstract\": (512, 512), \"Landscape\": (512, 512), \"Portrait\": (512, 512), \n",
        "          \"Still Life\": (512, 512), \"Watercolor\": (512, 512), \"Character Design\": (512, 512)}\n",
        "\n",
        "for i, f in enumerate(file_list):\n",
        "  if \"v2\" in f:\n",
        "    sd = \"V2\"\n",
        "  elif \"v3\" in f:\n",
        "    sd = \"V3\"\n",
        "  elif \"v4\" in f:\n",
        "    sd = \"V4\"\n",
        "  elif \"v5\" in f:\n",
        "    sd = \"V5\"\n",
        "  elif \"niji4\" in f:\n",
        "    sd = \"NIJI4\"\n",
        "  elif \"niji5\" in f:\n",
        "    sd = \"NIJI5\"\n",
        "  elif \"niji expressive\" in f:\n",
        "    sd = \"NIJI EX\"\n",
        "  elif \"niji cute\" in f:\n",
        "    sd = \"NIJI CU\"\n",
        "  else:\n",
        "    sd = \"SD\"\n",
        "  c = i%4\n",
        "\n",
        "  print(f)\n",
        "  parts = f.split(\"/\")\n",
        "  subject = parts[5]\n",
        "  prompt = parts[3]\n",
        "  dims = dimensions[subject]\n",
        "  img = Image.open(f)\n",
        "  img_resized = img.resize(dims)\n",
        "  draw = ImageDraw.Draw(img_resized)\n",
        "\n",
        "  if sd == \"V2\":\n",
        "    draw.text((3, dims[1]-41), sd+str(c), font=fnt, fill=(255, 127, 14, 255))\n",
        "  elif sd == \"V3\":\n",
        "    draw.text((3, dims[1]-41), sd+str(c), font=fnt, fill=(31, 119, 180, 255))\n",
        "  elif sd == \"V4\":\n",
        "    draw.text((3, dims[1]-41), sd+str(c), font=fnt, fill=(44, 160, 44, 255))\n",
        "  elif sd == \"V5\":\n",
        "    draw.text((3, dims[1]-41), sd+str(c), font=fnt, fill=(255, 0, 0, 255))\n",
        "  elif sd == \"NIJI4\":\n",
        "    draw.text((3, dims[1]-41), sd+str(c), font=fnt, fill=(0, 255, 0, 255))\n",
        "  elif sd == \"NIJI5\":\n",
        "    draw.text((3, dims[1]-41), sd+str(c), font=fnt, fill=(0, 0, 255, 255))\n",
        "  elif sd == \"NIJI EX\":\n",
        "    draw.text((3, dims[1]-41), sd+str(c), font=fnt, fill=(255, 255, 0, 255))\n",
        "  elif sd == \"NIJI CU\":\n",
        "    draw.text((3, dims[1]-41), sd+str(c), font=fnt, fill=(255, 0, 255, 255))\n",
        "  else:\n",
        "    draw.text((3, dims[1]-41), sd+str(c), font=fnt, fill=(0, 0, 0, 255))\n",
        "\n",
        "    draw.text((6, dims[1]-44), sd+str(c), font=fnt, fill=(255, 255, 255, 255)) \n",
        "\n",
        "  if c == 0:\n",
        "    w = dims[0]*2+10\n",
        "    h = dims[1]*2+10\n",
        "    im = Image.new(mode = \"RGB\", size = (w, h), color = (255, 255, 255))\n",
        "    Image.Image.paste(im, img_resized, (0, 0))\n",
        "\n",
        "  elif c == 1:\n",
        "    Image.Image.paste(im, img_resized, (dims[0]+10, 0))\n",
        "  elif c == 2:\n",
        "    Image.Image.paste(im, img_resized, (0, dims[1]+10))\n",
        "  else:\n",
        "    Image.Image.paste(im, img_resized, (dims[0]+10, dims[1]+10))\n",
        "    im.save(\"/content/drive/MyDrive/AI\"+subject+\"/\"+prompt+\"_\"+sd+\".jpg\", quality=95)"
      ],
      "metadata": {
        "id": "N95n9NpyYnXK"
      },
      "execution_count": 48,
      "outputs": []
    },
    {
      "cell_type": "code",
      "source": [
        "from google.colab import drive\n",
        "drive.mount('/content/drive')"
      ],
      "metadata": {
        "id": "l6OV4z74c97k",
        "outputId": "877ba5bf-c7f6-4c48-b3af-84c167140ba7",
        "colab": {
          "base_uri": "https://localhost:8080/"
        }
      },
      "execution_count": 49,
      "outputs": [
        {
          "output_type": "stream",
          "name": "stdout",
          "text": [
            "Drive already mounted at /content/drive; to attempt to forcibly remount, call drive.mount(\"/content/drive\", force_remount=True).\n"
          ]
        }
      ]
    },
    {
      "cell_type": "code",
      "source": [
        "from IPython.display import display\n",
        "prompt_similarities = []\n",
        "esthetic_qualities = []\n",
        "embeddings = []\n",
        "labels = []\n",
        "\n",
        "start = 96\n",
        "\n",
        "for i, f in enumerate(file_list[start:start+12]):\n",
        "  if \"v2\" in f:\n",
        "    sd = \"V2\"\n",
        "  elif \"v3\" in f:\n",
        "    sd = \"V3\"\n",
        "  elif \"v4\" in f:\n",
        "    sd = \"V4\"\n",
        "  elif \"v5\" in f:\n",
        "    sd = \"V5\"\n",
        "  elif \"niji4\" in f:\n",
        "    sd = \"NIJI4\"\n",
        "  elif \"niji5\" in f:\n",
        "    sd = \"NIJI5\"\n",
        "  elif \"niji expressive\" in f:\n",
        "    sd = \"NIJI EX\"\n",
        "  elif \"niji cute\" in f:\n",
        "    sd = \"NIJI CU\"\n",
        "  else:\n",
        "    sd = \"SD\"\n",
        "  c = i%4\n",
        "  labels.append(sd+str(c))\n",
        "  parts = f.split(\"/\")\n",
        "  subject = parts[5]\n",
        "  prompt = parts[6]\n",
        "  # print(sd, c, subject, prompt, f)\n",
        "\n",
        "  img = Image.open(f)\n",
        "  img_resized = img.resize((336, 336))\n",
        "  # display(img_resized)\n",
        "\n",
        "  image = preprocess(img_resized).unsqueeze(0).to(device)\n",
        "  text = clip.tokenize([\"fake art\", \"real art\", \"bad art\", \"good art\", \n",
        "    prompt]).to(device)\n",
        "\n",
        "  with torch.no_grad():\n",
        "    image_features = model.encode_image(image)\n",
        "    image_features /= image_features.norm(dim=-1, keepdim=True)\n",
        "    embeddings.append(image_features.flatten().cpu().tolist())\n",
        "    text_features = model.encode_text(text)\n",
        "    text_features /= text_features.norm(dim=-1, keepdim=True)\n",
        "    similarity = text_features.cpu().numpy() @ image_features.cpu().numpy().T\n",
        "\n",
        "  fake = similarity[0][0]\n",
        "  real = similarity[1][0]\n",
        "  bad = similarity[2][0]\n",
        "  good = similarity[3][0]\n",
        "  esthetic_quality = (real-fake) + (good-bad)\n",
        "\n",
        "  prompt_similarity = similarity[4][0]\n",
        "\n",
        "  prompt_similarities.append(esthetic_quality)\n",
        "  esthetic_qualities.append(prompt_similarity)\n",
        "\n",
        "  print(\"{:7.4f}\".format(prompt_similarity), \"{:7.4f}\".format(esthetic_quality), f)\n",
        "\n",
        "import matplotlib.pyplot as plt\n",
        "fig, ax = plt.subplots(figsize=(7, 7), dpi=80)\n",
        "\n",
        "plt.xlabel(\"matches less <--    Prompt Similarity    --> matches more\", fontsize=12)\n",
        "plt.ylabel(\"lower <--    Esthetic Quality    --> higher\", fontsize=12)\n",
        "plt.scatter(esthetic_qualities[8:12], prompt_similarities[8:12], s=100, label=\"V2\")\n",
        "plt.scatter(esthetic_qualities[4:8], prompt_similarities[4:8], s=100, label=\"V3\")\n",
        "plt.scatter(esthetic_qualities[0:4], prompt_similarities[0:4], s=100, label=\"V4\")\n",
        "plt.scatter(esthetic_qualities[12:16], prompt_similarities[12:16], s=100, label=\"V5\")\n",
        "plt.scatter(esthetic_qualities[16:20], prompt_similarities[16:20], s=100, label=\"NIJI4\")\n",
        "plt.scatter(esthetic_qualities[20:24], prompt_similarities[20:24], s=100, label=\"NIJI5\")\n",
        "plt.scatter(esthetic_qualities[24:28], prompt_similarities[24:28], s=100, label=\"NIJI EX\")\n",
        "plt.scatter(esthetic_qualities[28:32], prompt_similarities[28:32], s=100, label=\"NIJI CU\")\n",
        "plt.legend(loc=\"lower left\")\n",
        "\n",
        "for i, txt in enumerate(labels):\n",
        "  ax.annotate(txt, (esthetic_qualities[i]+0.0009, prompt_similarities[i]-0.0003))\n",
        "plt.show()"
      ],
      "metadata": {
        "colab": {
          "base_uri": "https://localhost:8080/",
          "height": 499
        },
        "id": "DUVv6fRJMfn8",
        "outputId": "b2299e72-f018-48f3-c69e-3d78447ee101"
      },
      "execution_count": 50,
      "outputs": [
        {
          "output_type": "display_data",
          "data": {
            "text/plain": [
              "<Figure size 560x560 with 1 Axes>"
            ],
            "image/png": "[encoded data removed]"
          },
          "metadata": {}
        }
      ]
    }
  ]
}