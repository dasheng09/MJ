{
  "nbformat": 4,
  "nbformat_minor": 0,
  "metadata": {
    "colab": {
      "provenance": [],
      "include_colab_link": true
    },
    "kernelspec": {
      "name": "python3",
      "display_name": "Python 3"
    },
    "language_info": {
      "name": "python"
    },
    "accelerator": "GPU"
  },
  "cells": [
    {
      "cell_type": "markdown",
      "metadata": {
        "id": "view-in-github",
        "colab_type": "text"
      },
      "source": [
        "<a href=\"https://colab.research.google.com/github/dasheng09/MJ/blob/main/%E5%88%87%E5%88%86%E5%B9%B6%E4%B8%94%E6%A0%87%E7%AD%BE%E6%AD%A3%E7%A1%AE4.25%20%2019.55.ipynb\" target=\"_parent\"><img src=\"https://colab.research.google.com/assets/colab-badge.svg\" alt=\"Open In Colab\"/></a>"
      ]
    },
    {
      "cell_type": "code",
      "metadata": {
        "id": "62-fEt6zKElK",
        "colab": {
          "base_uri": "https://localhost:8080/"
        },
        "outputId": "1113c5d3-3328-44d8-effd-995579e34564"
      },
      "source": [
        "!pip install ftfy regex tqdm\n",
        "!pip install git+https://github.com/openai/CLIP.git"
      ],
      "execution_count": 34,
      "outputs": [
        {
          "output_type": "stream",
          "name": "stdout",
          "text": [
            "Looking in indexes: https://pypi.org/simple, https://us-python.pkg.dev/colab-wheels/public/simple/\n",
            "Requirement already satisfied: ftfy in /usr/local/lib/python3.9/dist-packages (6.1.1)\n",
            "Requirement already satisfied: regex in /usr/local/lib/python3.9/dist-packages (2022.10.31)\n",
            "Requirement already satisfied: tqdm in /usr/local/lib/python3.9/dist-packages (4.65.0)\n",
            "Requirement already satisfied: wcwidth>=0.2.5 in /usr/local/lib/python3.9/dist-packages (from ftfy) (0.2.6)\n",
            "Looking in indexes: https://pypi.org/simple, https://us-python.pkg.dev/colab-wheels/public/simple/\n",
            "Collecting git+https://github.com/openai/CLIP.git\n",
            "  Cloning https://github.com/openai/CLIP.git to /tmp/pip-req-build-9zcicnvo\n",
            "  Running command git clone --filter=blob:none --quiet https://github.com/openai/CLIP.git /tmp/pip-req-build-9zcicnvo\n",
            "  Resolved https://github.com/openai/CLIP.git to commit a9b1bf5920416aaeaec965c25dd9e8f98c864f16\n",
            "  Preparing metadata (setup.py) ... \u001b[?25l\u001b[?25hdone\n",
            "Requirement already satisfied: ftfy in /usr/local/lib/python3.9/dist-packages (from clip==1.0) (6.1.1)\n",
            "Requirement already satisfied: regex in /usr/local/lib/python3.9/dist-packages (from clip==1.0) (2022.10.31)\n",
            "Requirement already satisfied: tqdm in /usr/local/lib/python3.9/dist-packages (from clip==1.0) (4.65.0)\n",
            "Requirement already satisfied: torch in /usr/local/lib/python3.9/dist-packages (from clip==1.0) (2.0.0+cu118)\n",
            "Requirement already satisfied: torchvision in /usr/local/lib/python3.9/dist-packages (from clip==1.0) (0.15.1+cu118)\n",
            "Requirement already satisfied: wcwidth>=0.2.5 in /usr/local/lib/python3.9/dist-packages (from ftfy->clip==1.0) (0.2.6)\n",
            "Requirement already satisfied: sympy in /usr/local/lib/python3.9/dist-packages (from torch->clip==1.0) (1.11.1)\n",
            "Requirement already satisfied: jinja2 in /usr/local/lib/python3.9/dist-packages (from torch->clip==1.0) (3.1.2)\n",
            "Requirement already satisfied: typing-extensions in /usr/local/lib/python3.9/dist-packages (from torch->clip==1.0) (4.5.0)\n",
            "Requirement already satisfied: networkx in /usr/local/lib/python3.9/dist-packages (from torch->clip==1.0) (3.1)\n",
            "Requirement already satisfied: triton==2.0.0 in /usr/local/lib/python3.9/dist-packages (from torch->clip==1.0) (2.0.0)\n",
            "Requirement already satisfied: filelock in /usr/local/lib/python3.9/dist-packages (from torch->clip==1.0) (3.11.0)\n",
            "Requirement already satisfied: lit in /usr/local/lib/python3.9/dist-packages (from triton==2.0.0->torch->clip==1.0) (16.0.1)\n",
            "Requirement already satisfied: cmake in /usr/local/lib/python3.9/dist-packages (from triton==2.0.0->torch->clip==1.0) (3.25.2)\n",
            "Requirement already satisfied: pillow!=8.3.*,>=5.3.0 in /usr/local/lib/python3.9/dist-packages (from torchvision->clip==1.0) (8.4.0)\n",
            "Requirement already satisfied: numpy in /usr/local/lib/python3.9/dist-packages (from torchvision->clip==1.0) (1.22.4)\n",
            "Requirement already satisfied: requests in /usr/local/lib/python3.9/dist-packages (from torchvision->clip==1.0) (2.27.1)\n",
            "Requirement already satisfied: MarkupSafe>=2.0 in /usr/local/lib/python3.9/dist-packages (from jinja2->torch->clip==1.0) (2.1.2)\n",
            "Requirement already satisfied: idna<4,>=2.5 in /usr/local/lib/python3.9/dist-packages (from requests->torchvision->clip==1.0) (3.4)\n",
            "Requirement already satisfied: certifi>=2017.4.17 in /usr/local/lib/python3.9/dist-packages (from requests->torchvision->clip==1.0) (2022.12.7)\n",
            "Requirement already satisfied: urllib3<1.27,>=1.21.1 in /usr/local/lib/python3.9/dist-packages (from requests->torchvision->clip==1.0) (1.26.15)\n",
            "Requirement already satisfied: charset-normalizer~=2.0.0 in /usr/local/lib/python3.9/dist-packages (from requests->torchvision->clip==1.0) (2.0.12)\n",
            "Requirement already satisfied: mpmath>=0.19 in /usr/local/lib/python3.9/dist-packages (from sympy->torch->clip==1.0) (1.3.0)\n"
          ]
        }
      ]
    },
    {
      "cell_type": "code",
      "source": [
        "import clip\n",
        "print(clip.available_models())"
      ],
      "metadata": {
        "colab": {
          "base_uri": "https://localhost:8080/"
        },
        "id": "kbXDEPwHUYKr",
        "outputId": "2f376a2c-d419-4be6-b9ae-4709c1c3609d"
      },
      "execution_count": 35,
      "outputs": [
        {
          "output_type": "stream",
          "name": "stdout",
          "text": [
            "['RN50', 'RN101', 'RN50x4', 'RN50x16', 'RN50x64', 'ViT-B/32', 'ViT-B/16', 'ViT-L/14', 'ViT-L/14@336px']\n"
          ]
        }
      ]
    },
    {
      "cell_type": "code",
      "metadata": {
        "id": "pLf1HrjgKTKB"
      },
      "source": [
        "import torch\n",
        "import clip\n",
        "from PIL import Image\n",
        "device = \"cuda\" if torch.cuda.is_available() else \"cpu\"\n",
        "model, preprocess = clip.load(\"ViT-L/14@336px\", device=device)"
      ],
      "execution_count": 36,
      "outputs": []
    },
    {
      "cell_type": "code",
      "source": [
        "import glob\n",
        "file_list = glob.glob(\"/content/drive/MyDrive/stable_diffusion/*/*/*.png\")\n",
        "file_list.sort()"
      ],
      "metadata": {
        "id": "1Bl5XeosL4zl"
      },
      "execution_count": 37,
      "outputs": []
    },
    {
      "cell_type": "code",
      "source": [
        "print(file_list[96:96+12])"
      ],
      "metadata": {
        "colab": {
          "base_uri": "https://localhost:8080/"
        },
        "id": "HwpYNn7-MOMN",
        "outputId": "0c7243b5-6d88-490a-e084-97afe07fc9a6"
      },
      "execution_count": 38,
      "outputs": [
        {
          "output_type": "stream",
          "name": "stdout",
          "text": [
            "[]\n"
          ]
        }
      ]
    },
    {
      "cell_type": "code",
      "source": [
        "from google.colab import drive\n",
        "drive.mount('/content/drive')"
      ],
      "metadata": {
        "colab": {
          "base_uri": "https://localhost:8080/"
        },
        "id": "9rKQioJSmMCL",
        "outputId": "24aee7c0-265b-4c16-b117-ba8e41660e7c"
      },
      "execution_count": 39,
      "outputs": [
        {
          "output_type": "stream",
          "name": "stdout",
          "text": [
            "Drive already mounted at /content/drive; to attempt to forcibly remount, call drive.mount(\"/content/drive\", force_remount=True).\n"
          ]
        }
      ]
    },
    {
      "cell_type": "code",
      "source": [
        "import clip\n",
        "print(clip.available_models())\n",
        "\n",
        "\n",
        "import torch\n",
        "import clip\n",
        "from PIL import Image\n",
        "# device = \"cuda\" if torch.cuda.is_available() else \"cpu\"\n",
        "# model, preprocess = clip.load(\"ViT-L/14@336px\", device=device)\n",
        "\n",
        "\n",
        "import glob\n",
        "file_list = glob.glob(\"/content/drive/MyDrive/stable_diffusion/*/*/*.png\")\n",
        "file_list.sort()\n",
        "\n",
        "print(file_list[0:0+12])\n",
        "\n",
        "# from google.colab import drive\n",
        "\n",
        "# drive.mount('/content/drive')\n",
        "\n",
        "\n",
        "\n",
        "from PIL import ImageFont, ImageDraw\n",
        "# fnt = ImageFont.truetype('/usr/share/fonts/truetype/liberation/LiberationSans-Bold.ttf', 40)\n",
        "dimensions = {\"Abstract Paintings\": (512, 512), \"Landscapes\": (512, 512), \"Portraits\": (512, 512), \n",
        "          \"Still Lifes\": (512, 512), \"Watercolor\": (512, 512), \"Concept character\": (512, 512)}\n",
        "\n",
        "for i, f in enumerate(file_list):\n",
        "  if \"V2\" in f:\n",
        "    sd = \"V2\"\n",
        "  elif \"V3\" in f:\n",
        "    sd = \"V3\"\n",
        "  elif \"V4\" in f:\n",
        "    sd = \"V4\"\n",
        "  elif \"V5\" in f:\n",
        "    sd = \"V5\"\n",
        "  elif \"NIJI4\" in f:\n",
        "    sd = \"NIJI4\"\n",
        "  elif \"NIJI5\" in f:\n",
        "    sd = \"NIJI5\"\n",
        "  elif \"NIJI EX\" in f:\n",
        "    sd = \"NIJI EX\"\n",
        "  elif \"NIJI CU\" in f:\n",
        "    sd = \"NIJI CU\"\n",
        "  else:\n",
        "    sd = \"SD\"\n",
        "  c = i%4\n",
        "  print(f)\n",
        "  parts = f.split(\"/\")\n",
        "  subject = parts[5]\n",
        "  prompt = parts[6]\n",
        "  dims = dimensions[subject]\n",
        "  img = Image.open(f)\n",
        "  width, height = img.size\n",
        "  \n",
        " \n",
        "# 前两个坐标点是左上角坐标\n",
        "# 后两个坐标点是右下角坐标\n",
        "# width在前， height在后\n",
        "  img = Image.open(f)\n",
        "  width, height = img.size\n",
        "\n",
        "  if width % 2 != 0 or height % 2 != 0:\n",
        "        img = img.resize((width + 1, height + 1))\n",
        "        width, height = img.size\n",
        "\n",
        "  half_width = width // 2\n",
        "  half_height = height // 2\n",
        "\n",
        "  if width != height:\n",
        "        print(f\"图像 {f} 不是正方形，已跳过。\")\n",
        "        continue\n",
        "\n",
        "  half_width = width // 2\n",
        "  half_height = height // 2\n",
        "   # 动态调整字体大小\n",
        "  font_size = int(half_width * 0.1)\n",
        "  fnt = ImageFont.truetype('/usr/share/fonts/truetype/liberation/LiberationSans-Bold.ttf', font_size)\n",
        "\n",
        "  positions = [(0, 0), (half_width, 0), (0, half_height), (half_width, half_height)]\n",
        "\n",
        "  for idx, position in enumerate(positions):\n",
        "        cropped_img = img.crop((position[0], position[1], position[0] + half_width, position[1] + half_height))\n",
        "        draw = ImageDraw.Draw(cropped_img)\n",
        "        label = f\"{sd} {idx}\"\n",
        "        draw.text((font_size // 2, font_size // 2), label, font=fnt, fill=(255, 255, 255, 255))\n",
        "        cropped_img.save(f\"/content/drive/MyDrive/stable_diffusion/charts/{subject}/{parts[7]}{prompt}_{sd}_crop{idx}.jpg\")\n",
        "  img.crop((0, 0, half_width, half_height)).save(\"/content/drive/MyDrive/stable_diffusion/charts/\" + subject + \"/\" + parts[7] + prompt + \"_\" + sd + 'crop0.jpg')\n",
        "  img.crop((half_width, 0, width, half_height)).save(\"/content/drive/MyDrive/stable_diffusion/charts/\" + subject + \"/\" + prompt + \"_\" + sd + 'crop1.jpg')\n",
        "  img.crop((0, half_height, half_width, height)).save(\"/content/drive/MyDrive/stable_diffusion/charts/\" + subject + \"/\" + prompt + \"_\" + sd + 'crop2.jpg')\n",
        "  img.crop((half_width, half_height, width, height)).save(\"/content/drive/MyDrive/stable_diffusion/charts/\" + subject + \"/\" + prompt + \"_\" + sd + 'crop3.jpg')\n",
        " \n",
        "  "
      ],
      "metadata": {
        "id": "N95n9NpyYnXK",
        "colab": {
          "base_uri": "https://localhost:8080/"
        },
        "outputId": "6165dd76-5d6b-4352-f5ad-5cc45006fc46"
      },
      "execution_count": 61,
      "outputs": [
        {
          "output_type": "stream",
          "name": "stdout",
          "text": [
            "['RN50', 'RN101', 'RN50x4', 'RN50x16', 'RN50x64', 'ViT-B/32', 'ViT-B/16', 'ViT-L/14', 'ViT-L/14@336px']\n",
            "['/content/drive/MyDrive/stable_diffusion/Portraits/A beautiful girl in the sun Portraits by Childe Hassam+Edgar Payne+sorolla/NIJI CU-1.png', '/content/drive/MyDrive/stable_diffusion/Portraits/A beautiful girl in the sun Portraits by Childe Hassam+Edgar Payne+sorolla/NIJI EX-1.png', '/content/drive/MyDrive/stable_diffusion/Portraits/A beautiful girl in the sun Portraits by Childe Hassam+Edgar Payne+sorolla/NIJI4-1.png', '/content/drive/MyDrive/stable_diffusion/Portraits/A beautiful girl in the sun Portraits by Childe Hassam+Edgar Payne+sorolla/NIJI5-1.png', '/content/drive/MyDrive/stable_diffusion/Portraits/A beautiful girl in the sun Portraits by Childe Hassam+Edgar Payne+sorolla/V2-1.png', '/content/drive/MyDrive/stable_diffusion/Portraits/A beautiful girl in the sun Portraits by Childe Hassam+Edgar Payne+sorolla/V3-1.png', '/content/drive/MyDrive/stable_diffusion/Portraits/A beautiful girl in the sun Portraits by Childe Hassam+Edgar Payne+sorolla/V4-1.png', '/content/drive/MyDrive/stable_diffusion/Portraits/A beautiful girl in the sun Portraits by Childe Hassam+Edgar Payne+sorolla/V5-1.png']\n",
            "/content/drive/MyDrive/stable_diffusion/Portraits/A beautiful girl in the sun Portraits by Childe Hassam+Edgar Payne+sorolla/NIJI CU-1.png\n",
            "/content/drive/MyDrive/stable_diffusion/Portraits/A beautiful girl in the sun Portraits by Childe Hassam+Edgar Payne+sorolla/NIJI EX-1.png\n",
            "/content/drive/MyDrive/stable_diffusion/Portraits/A beautiful girl in the sun Portraits by Childe Hassam+Edgar Payne+sorolla/NIJI4-1.png\n",
            "/content/drive/MyDrive/stable_diffusion/Portraits/A beautiful girl in the sun Portraits by Childe Hassam+Edgar Payne+sorolla/NIJI5-1.png\n",
            "/content/drive/MyDrive/stable_diffusion/Portraits/A beautiful girl in the sun Portraits by Childe Hassam+Edgar Payne+sorolla/V2-1.png\n",
            "/content/drive/MyDrive/stable_diffusion/Portraits/A beautiful girl in the sun Portraits by Childe Hassam+Edgar Payne+sorolla/V3-1.png\n",
            "/content/drive/MyDrive/stable_diffusion/Portraits/A beautiful girl in the sun Portraits by Childe Hassam+Edgar Payne+sorolla/V4-1.png\n",
            "/content/drive/MyDrive/stable_diffusion/Portraits/A beautiful girl in the sun Portraits by Childe Hassam+Edgar Payne+sorolla/V5-1.png\n"
          ]
        }
      ]
    },
    {
      "cell_type": "code",
      "source": [
        "from IPython.display import display\n",
        "prompt_similarities = []\n",
        "esthetic_qualities = []\n",
        "embeddings = []\n",
        "labels = []\n",
        "category_labels = {}\n",
        "\n",
        "start = 0\n",
        "\n",
        "for i, f in enumerate(file_list[0:192]):\n",
        "  if \"V2\" in f:\n",
        "    sd = \"V2\"\n",
        "  elif \"V3\" in f:\n",
        "    sd = \"V3\"\n",
        "  elif \"V4\" in f:\n",
        "    sd = \"V4\"\n",
        "  elif \"V5\" in f:\n",
        "    sd = \"V5\"\n",
        "  elif \"NIJI4\" in f:\n",
        "    sd = \"NIJI4\"\n",
        "  elif \"NIJI5\" in f:\n",
        "    sd = \"NIJI5\"\n",
        "  elif \"NIJI EX\" in f:\n",
        "    sd = \"NIJI EX\"\n",
        "  elif \"NIJI CU\" in f:\n",
        "    sd = \"NIJI CU\"\n",
        "\n",
        "  c = i%4\n",
        "  labels.append(sd+str(c))\n",
        "  parts = f.split(\"/\")\n",
        "  subject = parts[5]\n",
        "  prompt = parts[6]\n",
        "  # print(sd, c, subject, prompt, f)\n",
        "\n",
        "  img = Image.open(f)\n",
        "  img_resized = img.resize((336, 336))\n",
        "  # display(img_resized)\n",
        "\n",
        "  image = preprocess(img_resized).unsqueeze(0).to(device)\n",
        "  text = clip.tokenize([\"fake art\", \"real art\", \"bad art\", \"good art\", \n",
        "    prompt]).to(device)\n",
        "\n",
        "  with torch.no_grad():\n",
        "    image_features = model.encode_image(image)\n",
        "    image_features /= image_features.norm(dim=-1, keepdim=True)\n",
        "    embeddings.append(image_features.flatten().cpu().tolist())\n",
        "    text_features = model.encode_text(text)\n",
        "    text_features /= text_features.norm(dim=-1, keepdim=True)\n",
        "    similarity = text_features.cpu().numpy() @ image_features.cpu().numpy().T\n",
        "\n",
        "  fake = similarity[0][0]\n",
        "  real = similarity[1][0]\n",
        "  bad = similarity[2][0]\n",
        "  good = similarity[3][0]\n",
        "  esthetic_quality = (real-fake) + (good-bad)\n",
        "\n",
        "  prompt_similarity = similarity[4][0]\n",
        "\n",
        "  prompt_similarities.append(esthetic_quality)\n",
        "  esthetic_qualities.append(prompt_similarity)\n",
        "\n",
        "  print(\"{:7.4f}\".format(prompt_similarity), \"{:7.4f}\".format(esthetic_quality), f)\n",
        "  \n",
        "import matplotlib.pyplot as plt\n",
        "fig, ax = plt.subplots(figsize=(7, 7), dpi=80)\n",
        "\n",
        "plt.xlabel(\"matches less <--    Prompt Similarity    --> matches more\", fontsize=12)\n",
        "plt.ylabel(\"lower <--    Esthetic Quality    --> higher\", fontsize=12)\n",
        "plt.scatter(esthetic_qualities[8:12], prompt_similarities[8:12], s=100, label=\"V2\")\n",
        "plt.scatter(esthetic_qualities[4:8], prompt_similarities[4:8], s=100, label=\"V3\")\n",
        "plt.scatter(esthetic_qualities[0:4], prompt_similarities[0:4], s=100, label=\"V4\")\n",
        "plt.scatter(esthetic_qualities[12:16], prompt_similarities[12:16], s=100, label=\"V5\")\n",
        "plt.scatter(esthetic_qualities[16:20], prompt_similarities[16:20], s=100, label=\"NIJI4\")\n",
        "plt.scatter(esthetic_qualities[20:24], prompt_similarities[20:24], s=100, label=\"NIJI5\")\n",
        "plt.scatter(esthetic_qualities[24:28], prompt_similarities[24:28], s=100, label=\"NIJI EX\")\n",
        "plt.scatter(esthetic_qualities[28:32], prompt_similarities[28:32], s=100, label=\"NIJI CU\")\n",
        "plt.legend(loc=\"lower left\")\n",
        "colors = ['tab:blue', 'tab:orange', 'tab:green', 'tab:red', 'tab:purple', 'tab:brown', 'tab:pink', 'tab:gray']\n",
        "plt.legend(loc=\"lower left\")\n",
        "for j in range(0, len(esthetic_qualities), 4):\n",
        "    category = labels[j]\n",
        "    color = colors[j // 4 % len(colors)]  # 使用取模运算符\n",
        "    if category not in category_labels:\n",
        "        category_labels[category] = True\n",
        "        plt.scatter(esthetic_qualities[j:j + 4], prompt_similarities[j:j + 4], s=100, label=category, color=color)\n",
        "    else:\n",
        "        plt.scatter(esthetic_qualities[j:j + 4], prompt_similarities[j:j + 4], s=100, color=color)\n",
        "for i, txt in enumerate(labels):\n",
        "\n",
        "  plt.show()"
      ],
      "metadata": {
        "colab": {
          "base_uri": "https://localhost:8080/",
          "height": 645
        },
        "id": "DUVv6fRJMfn8",
        "outputId": "1266f59b-7989-4ae0-828e-41b558a84018"
      },
      "execution_count": 63,
      "outputs": [
        {
          "output_type": "stream",
          "name": "stdout",
          "text": [
            " 0.0226  0.0104 /content/drive/MyDrive/stable_diffusion/Portraits/A beautiful girl in the sun Portraits by Childe Hassam+Edgar Payne+sorolla/NIJI CU-1.png\n",
            " 0.0771  0.0229 /content/drive/MyDrive/stable_diffusion/Portraits/A beautiful girl in the sun Portraits by Childe Hassam+Edgar Payne+sorolla/NIJI EX-1.png\n",
            " 0.0026  0.0463 /content/drive/MyDrive/stable_diffusion/Portraits/A beautiful girl in the sun Portraits by Childe Hassam+Edgar Payne+sorolla/NIJI4-1.png\n",
            " 0.1091  0.0273 /content/drive/MyDrive/stable_diffusion/Portraits/A beautiful girl in the sun Portraits by Childe Hassam+Edgar Payne+sorolla/NIJI5-1.png\n",
            " 0.0109  0.0233 /content/drive/MyDrive/stable_diffusion/Portraits/A beautiful girl in the sun Portraits by Childe Hassam+Edgar Payne+sorolla/V2-1.png\n",
            " 0.0609  0.0087 /content/drive/MyDrive/stable_diffusion/Portraits/A beautiful girl in the sun Portraits by Childe Hassam+Edgar Payne+sorolla/V3-1.png\n",
            " 0.0059  0.0476 /content/drive/MyDrive/stable_diffusion/Portraits/A beautiful girl in the sun Portraits by Childe Hassam+Edgar Payne+sorolla/V4-1.png\n",
            "-0.0238  0.0359 /content/drive/MyDrive/stable_diffusion/Portraits/A beautiful girl in the sun Portraits by Childe Hassam+Edgar Payne+sorolla/V5-1.png\n"
          ]
        },
        {
          "output_type": "display_data",
          "data": {
            "text/plain": [
              "<Figure size 560x560 with 1 Axes>"
            ],
            "image/png": "[encoded data removed]"
          },
          "metadata": {}
        }
      ]
    }
  ]
}